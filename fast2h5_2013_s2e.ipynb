{
 "metadata": {
  "name": "",
  "signature": "sha256:a428589c0d3e20d790fcc532ce3a43149ad6ecd8b83f822230290f9307a0c4fa"
 },
 "nbformat": 3,
 "nbformat_minor": 0,
 "worksheets": [
  {
   "cells": [
    {
     "cell_type": "code",
     "collapsed": false,
     "input": [
      "#$%pylab inline\n",
      "#Importing necessary modules:\n",
      "import sys\n",
      "import os\n",
      "import errno\n",
      "\n",
      "#@\n",
      "sys.path.insert(0,'/data/S2E/packages/WPG')\n",
      "#$sys.path.insert(0,'..')\n",
      "\n",
      "import shutil\n",
      "import numpy\n",
      "import h5py\n",
      "\n",
      "#Import base wavefront class\n",
      "from wpg import Wavefront"
     ],
     "language": "python",
     "metadata": {},
     "outputs": [
      {
       "output_type": "stream",
       "stream": "stdout",
       "text": [
        "Populating the interactive namespace from numpy and matplotlib\n"
       ]
      }
     ],
     "prompt_number": 1
    },
    {
     "cell_type": "code",
     "collapsed": false,
     "input": [
      "def mkdir_p(path):\n",
      "    \"\"\"\n",
      "    Create directory tree, if not exists (mkdir -p)\n",
      "    \"\"\"\n",
      "    try:\n",
      "        os.makedirs(path)\n",
      "    except OSError as exc:  # Python >2.5\n",
      "        if exc.errno == errno.EEXIST and os.path.isdir(path):\n",
      "            pass\n",
      "        else:\n",
      "            raise"
     ],
     "language": "python",
     "metadata": {},
     "outputs": [],
     "prompt_number": 2
    },
    {
     "cell_type": "code",
     "collapsed": false,
     "input": [
      "# set name of original FEL input file\n",
      "# i.e. input data file for FORTRAN <fast2xy>.exe, for details see README\n",
      "# the <fast2xy>.exe takes its input parameters from config file <FAST2XY>.dat\n",
      "def set_iname_2013(namg,ifb,nz):\n",
      "    # suppose that undulator position identifier, nz, has 2 digits\n",
      "    name = namg+'T'+str(ifb)+'0'+str(nz) \n",
      "    return name"
     ],
     "language": "python",
     "metadata": {},
     "outputs": [],
     "prompt_number": 3
    },
    {
     "cell_type": "code",
     "collapsed": false,
     "input": [
      "# build the names of <fast2xy>.exe output files, namt={'FXY', 'E', 'PXY'}\n",
      "# for details see README\n",
      "def set_oname_2013(namg,namt,ifb,nz):\n",
      "    # suppose that undulator position identifier, nz, has 2 digits\n",
      "    name = namg+namt+str(ifb)+'0'+str(nz) \n",
      "    return name"
     ],
     "language": "python",
     "metadata": {},
     "outputs": [],
     "prompt_number": 4
    },
    {
     "cell_type": "code",
     "collapsed": true,
     "input": [
      "# set name of FEL output h5 file, i.e. add a suffix to a base name \n",
      "# bname base name   \n",
      "# tmin is starting point of pulse chunk\n",
      "# return bname+'_'+str(tmin)+'fs'\n",
      "def set_FELout_name(bname,tmin):\n",
      "    strd1=str(int(numpy.floor(tmin)))\n",
      "    if (trd1+0.5) >(int(trd1) +1.):\n",
      "        strd1=str(int(numpy.ceil(trd1)))\n",
      "        fname = bname +'_'+strd1+'fs'\n",
      "    if int(trd1) < 10:\n",
      "        fname = bname+'_00'+strd1+'fs'\n",
      "    if  (int(trd1) >= 10) and (int(trd1) < 100):\n",
      "        fname = bname+'_0'+strd1+'fs'\n",
      "    return fname"
     ],
     "language": "python",
     "metadata": {},
     "outputs": [],
     "prompt_number": 5
    },
    {
     "cell_type": "code",
     "collapsed": false,
     "input": [
      "def parse_toe_file(f_name):\n",
      "    \"\"\" Parse *.res file to list of strings \"\"\"\n",
      "    #TODO: now all rows keeped in memory. We should store only slices we need.\n",
      "    rows = []\n",
      "    params = []\n",
      "    with open(f_name,'r') as f:\n",
      "        for il,l in enumerate(f.readlines()):    \n",
      "            try:\n",
      "                t=numpy.array(l.split(),dtype='float32')\n",
      "                if il<2:\n",
      "                    params.append(t)\n",
      "                else:\n",
      "                    rows.append(t)\n",
      "            except ValueError:\n",
      "                print 'Error pasing line #%s in file %s' %(il,f_name)\n",
      "    return params, rows\n",
      "\n",
      "\n",
      "#Example of usage:\n",
      "#params, rows=parse_toe_file(toe_file_name)"
     ],
     "language": "python",
     "metadata": {},
     "outputs": [],
     "prompt_number": 6
    },
    {
     "cell_type": "code",
     "collapsed": true,
     "input": [
      "def create_numpy_array_from_rows(rows,slices=None):\n",
      "    # slice size (Re, Im)\n",
      "    N=len(rows[0])/2\n",
      "    \n",
      "    if slices is None:\n",
      "        slices=range(len(rows)/N)\n",
      "    slice_count=len(slices)\n",
      "\n",
      "    y = numpy.array(rows,dtype='float32').reshape((slice_count,N,N,2))\n",
      "    \n",
      "    print y.shape\n",
      "    y=numpy.swapaxes(y,0,2)\n",
      "    print y.shape\n",
      "    return y"
     ],
     "language": "python",
     "metadata": {},
     "outputs": [],
     "prompt_number": 7
    },
    {
     "cell_type": "code",
     "collapsed": true,
     "input": [
      "#save 3d array to hdf5\n",
      "def store_wavefront_hdf5(wf_struct,file_name):\n",
      "    \"\"\" Store wavefront structure in hdf5 file\"\"\"\n",
      "    def store_group(group,pearent_goup):\n",
      "        for k,v in group.items():\n",
      "            if isinstance(v,dict):\n",
      "                tmp_group=pearent_goup.create_group(k)\n",
      "                store_group(v,tmp_group)\n",
      "            else:\n",
      "                store_value(k,v,pearent_goup)\n",
      "    \n",
      "    def store_value(name,value,group):\n",
      "        filed_data=value[0]\n",
      "        filed_type=value[1]\n",
      "        if filed_type=='s':\n",
      "            group.create_dataset(name,data=filed_data)\n",
      "        else:\n",
      "            try:\n",
      "                group.create_dataset(name,data=filed_data,dtype=filed_type,chunks=True,\n",
      "                             compression='gzip', compression_opts=9)\n",
      "            except TypeError:\n",
      "                group.create_dataset(name,data=filed_data,dtype=filed_type)\n",
      "                \n",
      "    with h5py.File(file_name, 'w') as res_file:\n",
      "        store_group(wf_struct,res_file)"
     ],
     "language": "python",
     "metadata": {},
     "outputs": [],
     "prompt_number": 8
    },
    {
     "cell_type": "code",
     "collapsed": false,
     "input": [
      "def load_wavefront_hdf5(file_name):\n",
      "    \"\"\"Return dictionary with fields of wavefront\"\"\"\n",
      "    def load_group(group,d):\n",
      "        for k,v in dict(group).items():\n",
      "            if isinstance(v,h5py.Group):\n",
      "                d[k.encode()]={}\n",
      "                load_group(v,d[k.encode()])\n",
      "            elif isinstance(v,h5py.Dataset):\n",
      "                d[k.encode()]=v.value\n",
      "            else:\n",
      "                raise TypeError\n",
      "    \n",
      "    wf={}\n",
      "    with h5py.File(file_name, 'r') as h5_file:\n",
      "        load_group(h5_file,wf)\n",
      "        \n",
      "    return wf"
     ],
     "language": "python",
     "metadata": {},
     "outputs": [],
     "prompt_number": 9
    },
    {
     "cell_type": "code",
     "collapsed": false,
     "input": [
      "# Working directory for FEL data convertion:\n",
      "#@\n",
      "thepath = '/data/S2E/data/FELsource/' \n",
      "#$thepath = '/diskmnt/a/exflwgs03/lsamoylv/code/WPG-develop/samples/' \n",
      "os.chdir(thepath)\n",
      "#Path to original FEL data:  \n",
      "fel_data_path = thepath\n",
      "# input parameters for updating FAST2XY_2013.dat\n",
      "trd1 = 2.9                    # Start time for conversion (fs)\n",
      "trd2 = 11.6                 # End time for conversion (fs)\n",
      "nxy = 100                     # Mesh parameter, number of nodes = 2*NXY=+1\n",
      "nskip = 8                     # skip nskip slices\t\n",
      "ifb = 1001                    # File No. (FAST FEL code run number)\n",
      "#@\n",
      "nzc = 33                      # Output point No., defines active undulator length (see below)\n",
      "#$nzc = 15                      # Output point No., defines active undulator length (see below)\n",
      "nharm = 1                     #\n",
      "namg = \"SASE1_5keV_14GeV_\"\t# Generic file name prefix\n",
      "namt = 'FXY'+str(nharm)+'_'   # part of FEL output ASCII file name \n",
      "\n",
      "fast2xydat='FAST2XY_2013.DAT'\n",
      "fast2xyexe='fast2xy_2013_wo_name.exe'\n",
      "tmp_dir = os.path.join(thepath,set_FELout_name(set_oname_2013(namg,namt,ifb,nzc),trd1))\n",
      "mkdir_p(tmp_dir)\n",
      "print 'All temporary files are saved in \\n'+ tmp_dir+'/'\n",
      "shutil.copy(os.path.join(thepath,fast2xydat), tmp_dir+'/')\n",
      "shutil.copy(os.path.join(thepath,fast2xyexe), tmp_dir+'/')"
     ],
     "language": "python",
     "metadata": {},
     "outputs": [
      {
       "output_type": "stream",
       "stream": "stdout",
       "text": [
        "All temporary files are saved in \n",
        "/diskmnt/a/exflwgs03/lsamoylv/code/WPG-develop/samples/SASE1_5keV_14GeV_FXY1_1001015_003fs/\n"
       ]
      }
     ],
     "prompt_number": 10
    },
    {
     "cell_type": "code",
     "collapsed": false,
     "input": [
      "os.getcwd()"
     ],
     "language": "python",
     "metadata": {},
     "outputs": [
      {
       "metadata": {},
       "output_type": "pyout",
       "prompt_number": 11,
       "text": [
        "'/diskmnt/a/exflwgs03/lsamoylv/code/WPG-develop/samples'"
       ]
      }
     ],
     "prompt_number": 11
    },
    {
     "cell_type": "code",
     "collapsed": false,
     "input": [
      "os.chdir(tmp_dir)\n",
      "f_in = open(fast2xydat,'r')\n",
      "a = f_in.readlines()\n",
      "strInputPar = numpy.empty(len(a), dtype=object)\n",
      "strComment  = numpy.empty(len(a), dtype=object)\n",
      "print '==Beforehand=='\n",
      "for idx in range(len(a)): \n",
      "    strInputPar[idx] =  a[idx].split(' ',1)[0]\n",
      "    strComment[idx]  =  a[idx].split(' ',1)[1]\n",
      "    print strInputPar[idx]+strComment[idx].rstrip()\n",
      "f_in.close()\n",
      "strInputPar[0] = str(trd1)\n",
      "strInputPar[1] = str(trd2)\n",
      "strInputPar[2] = str(nxy)\n",
      "strInputPar[3] = str(nskip)\n",
      "strInputPar[4] = str(ifb)\n",
      "strInputPar[5] = str(nzc)\n",
      "strInputPar[6] = namg\n",
      "print '==Afterwards=='\n",
      "for idx in range(len(a)): \n",
      "    a[idx] = strInputPar[idx]+' '+strComment[idx].rstrip()\n",
      "    print a[idx]\n",
      "numpy.savetxt( fast2xydat,a,fmt='%s')"
     ],
     "language": "python",
     "metadata": {},
     "outputs": [
      {
       "output_type": "stream",
       "stream": "stdout",
       "text": [
        "==Beforehand==\n",
        "2.9      TRD1 -\tStart time for conversion (fs)\n",
        "11.6    TRD2 -\tEnd time for conversion (fs)\n",
        "100    NXY\t -\tMesh parameter, number of nodes = 2*NXY=+1\n",
        "8      N    -  skip N slices\n",
        "1001   IFB\t - \tFile No.\n",
        "15     NZ\t -\tOutput point No.\n",
        "SASE1_5keV_14GeV_Generic file name prfix\n",
        "==Afterwards==\n",
        "2.9       TRD1 -\tStart time for conversion (fs)\n",
        "11.6     TRD2 -\tEnd time for conversion (fs)\n",
        "100     NXY\t -\tMesh parameter, number of nodes = 2*NXY=+1\n",
        "8       N    -  skip N slices\n",
        "1001    IFB\t - \tFile No.\n",
        "15      NZ\t -\tOutput point No.\n",
        "SASE1_5keV_14GeV_ Generic file name prfix\n"
       ]
      }
     ],
     "prompt_number": 12
    },
    {
     "cell_type": "code",
     "collapsed": false,
     "input": [
      "os.getcwd()"
     ],
     "language": "python",
     "metadata": {},
     "outputs": [
      {
       "metadata": {},
       "output_type": "pyout",
       "prompt_number": 13,
       "text": [
        "'/diskmnt/a/exflwgs03/lsamoylv/code/WPG-develop/samples/SASE1_5keV_14GeV_FXY1_1001015_003fs'"
       ]
      }
     ],
     "prompt_number": 13
    },
    {
     "cell_type": "code",
     "collapsed": false,
     "input": [
      "#def set_iname_2013(namg,ifb,nz):\n",
      "ifname=set_iname_2013(namg,ifb,nzc)+'.RES'\n",
      "fulltname=fel_data_path+ifname\n",
      "if os.system(\"ln -s \"+fulltname+\" fort.4\") == 0:\n",
      "    print 'Creating symbolic link (fort.4): OK'\n",
      "#shutil.move('fort.4', tmp_dir+'/')\n",
      "outp=os.popen(fast2xyexe).read()\n",
      "\n",
      "fxy_data_file=set_oname_2013(namg,namt,ifb,nzc)+'.RES'\n",
      "p_data_file = set_oname_2013(namg,'PXY'+str(nharm)+'_',ifb,nzc)+'.RES'\n",
      "e_data_file = set_oname_2013(namg,'E'+str(nharm),ifb,nzc)+'.RES'\n",
      "pz_data_file = 'PZ1001.RES'\n",
      "print fulltname\n",
      "print fast2xyexe"
     ],
     "language": "python",
     "metadata": {},
     "outputs": [
      {
       "output_type": "stream",
       "stream": "stdout",
       "text": [
        "Creating symbolic link (fort.4): OK\n",
        "/diskmnt/a/exflwgs03/lsamoylv/code/WPG-develop/samples/SASE1_5keV_14GeV_T1001015.RES"
       ]
      },
      {
       "output_type": "stream",
       "stream": "stdout",
       "text": [
        "\n",
        "fast2xy_2013_wo_name.exe\n"
       ]
      }
     ],
     "prompt_number": 14
    },
    {
     "cell_type": "code",
     "collapsed": false,
     "input": [
      "print (outp)\n",
      "print fulltname\n",
      "print tmp_dir"
     ],
     "language": "python",
     "metadata": {},
     "outputs": [
      {
       "output_type": "stream",
       "stream": "stdout",
       "text": [
        " Searching file SASE1_5keV_14GeV_T1001015.RES\n",
        " Reading file header of reference file and allocating arrays \n",
        " XYMAX:    14.9822889435085     \n",
        " Input data:\n",
        " Time step of input data  (fs) =   4.999999999999999E-003\n",
        " Mesh step (1) of input data (cm) =   6.952380952380952E-005\n",
        " Mesh step (2) of input data (cm) =   3.097127701597077E-004\n",
        " Output data:\n",
        " Time step of output data (fs) =   3.999999999999999E-002   Ratio:            8\n",
        " Number of nodes:          201\n",
        " Mesh step (cm) =   3.093470808018115E-004   Ratio:    4.44951280605345     \n",
        " XYMAX, XYMAX*RNORMR, DXY*RNORMR:    14.9822889435085     \n",
        "  3.093470808018115E-002  3.093470808018115E-004\n",
        "   8680166902.86291     \n",
        " Input file: SASE1_5keV_14GeV_T1001015.RES\n",
        " Output file: SASE1_5keV_14GeV_FXY1_1001015.RES  Nh =            1\n",
        " Output file: SASE1_5keV_14GeV_E11001015.RES\n",
        " Number of slices:          218\n",
        " Pulse length:    8.72000000000000     \n",
        " Output file: SASE1_5keV_14GeV_PXY1_1001015.RES  Nh =            1\n",
        " CPU time:    6.84895800000000     \n",
        "\n",
        "/diskmnt/a/exflwgs03/lsamoylv/code/WPG-develop/samples/SASE1_5keV_14GeV_T1001015.RES\n",
        "/diskmnt/a/exflwgs03/lsamoylv/code/WPG-develop/samples/SASE1_5keV_14GeV_FXY1_1001015_003fs\n"
       ]
      }
     ],
     "prompt_number": 15
    },
    {
     "cell_type": "code",
     "collapsed": false,
     "input": [
      "#loading data from FXY*.RES file\n",
      "print 'Wave field: \\tReading text data from %s ...' %fxy_data_file\n",
      "params, rows=parse_toe_file(os.path.join(tmp_dir,fxy_data_file))\n",
      "print '\\t...done'\n",
      "\n",
      "print 'Time structure: \\tReading text data from %s ...' %e_data_file\n",
      "e_data = numpy.loadtxt(os.path.join(tmp_dir,e_data_file))\n",
      "print '\\t...done'\n",
      "\n",
      "print 'Gain curve: \\tReading text data from %s ...' %pz_data_file\n",
      "pz_data = numpy.loadtxt(os.path.join(thepath,pz_data_file))\n",
      "print '\\t...done'\n",
      "\n",
      "print 'P( x, y ): \\tReading text data from %s ...' %p_data_file\n",
      "prows = numpy.loadtxt(os.path.join(tmp_dir,p_data_file))\n",
      "N = len(prows)\n",
      "p_data = numpy.array(prows,dtype='float32').reshape((N,N))\n",
      "print p_data.shape\n",
      "del prows\n",
      "print '\\t...done'"
     ],
     "language": "python",
     "metadata": {},
     "outputs": [
      {
       "output_type": "stream",
       "stream": "stdout",
       "text": [
        "Wave field: \tReading text data from SASE1_5keV_14GeV_FXY1_1001015.RES ...\n",
        "\t...done"
       ]
      },
      {
       "output_type": "stream",
       "stream": "stdout",
       "text": [
        "\n",
        "Time structure: \tReading text data from SASE1_5keV_14GeV_E11001015.RES ...\n",
        "\t...done\n",
        "Gain curve: \tReading text data from PZ1001.RES ...\n",
        "\t...done\n",
        "P( x, y ): \tReading text data from SASE1_5keV_14GeV_PXY1_1001015.RES ...\n",
        "(201, 201)\n",
        "\t...done\n"
       ]
      }
     ],
     "prompt_number": 16
    },
    {
     "cell_type": "code",
     "collapsed": false,
     "input": [
      "wl = params[0][0]*1e-2\n",
      "photonEnergy = 12.4e3/(wl*1e10)\n",
      "slMin0 = 0.\n",
      "slStep = params[0][1]\n",
      "xStep = params[0][2]*1e-2\n",
      "nx = int(params[0][3])\n",
      "nStart = 1\n",
      "nEnd = numpy.size(rows)/(2*nx*nx)\n",
      "#ratio = 6.4550128060534480 \n",
      "xMin = -xStep*(nx-1)/2\n",
      "xMax =  xStep*(nx-1)/2\n",
      "slMin = slMin0 + (nStart-1)*slStep\n",
      "slMax = slMin0 + (nEnd - 1)*slStep\n",
      "print 'wl [nm], Eph [keV]',wl*1e9,photonEnergy*1e-3\n",
      "print 'nStart,nEnd: ',nStart,nEnd\n",
      "print 'slMin,slMax [fs]: ',slMin*1e15,slMax*1e15\n",
      "print 'nx,xMin,xMax [um]',nx,xMin*1e6,xMax*1e6"
     ],
     "language": "python",
     "metadata": {},
     "outputs": [
      {
       "output_type": "stream",
       "stream": "stdout",
       "text": [
        "wl [nm], Eph [keV] 0.250000002922 4.95999994204\n",
        "nStart,nEnd:  1 218\n",
        "slMin,slMax [fs]:  0.0 8.67999985917\n",
        "nx,xMin,xMax [um] 201 -309.347000439 309.347000439\n"
       ]
      }
     ],
     "prompt_number": 17
    },
    {
     "cell_type": "code",
     "collapsed": false,
     "input": [
      "RK1 = params[0][4]\n",
      "print RK1"
     ],
     "language": "python",
     "metadata": {},
     "outputs": [
      {
       "output_type": "stream",
       "stream": "stdout",
       "text": [
        "8.68017e+09\n"
       ]
      }
     ],
     "prompt_number": 18
    },
    {
     "cell_type": "code",
     "collapsed": false,
     "input": [
      "#build numpy arrays from list of rows\n",
      "wf_data=create_numpy_array_from_rows(rows,slices=range(nStart-1,nEnd))\n",
      "del rows"
     ],
     "language": "python",
     "metadata": {},
     "outputs": [
      {
       "output_type": "stream",
       "stream": "stdout",
       "text": [
        "(218, 201, 201, 2)\n",
        "(201, 201, 218, 2)\n"
       ]
      }
     ],
     "prompt_number": 19
    },
    {
     "cell_type": "code",
     "collapsed": false,
     "input": [
      "#wavefront structure based on glossary\n",
      "wf_struct={'version':(0.1,'f')}\n",
      "wf_struct['params']={\n",
      "    'photonEnergy':(photonEnergy,'f'),\n",
      "    'wDomain':('time','s'),\n",
      "    'wSpace':('R-space','s'),\n",
      "    'wEFieldUnit':('sqrt(W/mm^2)','s'),\n",
      "    'Rx':(2.,'f'),\n",
      "    'Ry':(2.,'f'),\n",
      "    'dRx':(0.125,'f'),\n",
      "    'dRy':(0.125,'f'),\n",
      "    'xCentre':(0,'f'),\n",
      "    'yCentre':(0,'f'),\n",
      "    'nval':(2,'i')\n",
      "    }\n",
      "  \n",
      "wf_struct['params']['Mesh']={\n",
      "    'nx':(wf_data.shape[1],'i'),\n",
      "    'ny':(wf_data.shape[0],'i'),\n",
      "    'xMin':(xMin,'f'),\n",
      "    'xMax':(xMax,'f'),\n",
      "    'yMin':(xMin,'f'),\n",
      "    'yMax':(xMax,'f'),    \n",
      "    'nSlices':(wf_data.shape[2],'i'),\n",
      "    'sliceMin':(slMin,'f'),\n",
      "    'sliceMax':(slMax,'f'),\n",
      "    'zCoord':(0.0,'d')\n",
      "   }\n",
      "\n",
      "wf_struct['data']={\n",
      "    'arrEver':(wf_data*numpy.sqrt(RK1),'f'),\n",
      "    'arrEhor':(numpy.zeros(shape=wf_data.shape,dtype='float32'),'f')\n",
      "    }\n",
      "wf_struct['misc']={\n",
      "    }\n"
     ],
     "language": "python",
     "metadata": {},
     "outputs": [],
     "prompt_number": 20
    },
    {
     "cell_type": "code",
     "collapsed": false,
     "input": [
      "#wf_struct_fel={'version':(0.1,'f')}\n",
      "wf_struct['history/parent/detail/info']={\n",
      "    'contact':(r'''Mikhail Yurkov\n",
      "Evgeny Schneidmiller\n",
      "\n",
      "Deutsches Elektronen Synchrotron (DESY)\n",
      "Notkestrasse 85\n",
      "22607 Hamburg\n",
      "Germany\n",
      "\n",
      "E-mail: mikhail.yurkov@desy.de\n",
      "E-mail: evgeny.schneidmiller@desy.de\n",
      "Tel. +49 40 8998 2676''','s'),\n",
      "   'data_description':(r'''SASE12, 5 keV, 14 GeV. \n",
      "Current pulse lengthis 2.5 ps, or about 10^4 coherence time (0.25 fs) - \n",
      "should be sufficient for any statistical analysis. \n",
      "Test files are as usually temporal profile, intensity distributions in the near and far zone.\n",
      "Output data points for s2e simulations:\n",
      "(see gain_curve):\n",
      "No.    z(m)\n",
      "15     35.5 (beginning of saturation regime)\n",
      "18     42.7 (saturation regime)\n",
      "25     59.5 (deep nonlinear)\n",
      "33     78.7  -/-\n",
      "42    100.3  -/- \n",
      "====\n",
      "Generic file name for simulation run is\n",
      "SASE1_5keV_14GeV_\n",
      "\n",
      "Parameters of the run:\n",
      "Frequency harmonics: w1, w3\n",
      "Azimuthal harmonics: -2...2\n",
      "File names:\n",
      "<generic_filename>??XXXXZZZ\n",
      "XXXX    -    No. of statistical run\n",
      "ZZZ    -    No. of output point along undulator \n",
      "??     stands for:\n",
      "P1/P3    -    temporal structure (fs,W) for the 1st/3rd harmonic\n",
      "S1/S3    -    temporal structure (dw/w [%],spectral power) for the 1st/3rd harmonic\n",
      "PZ1/PZ3    -    energy in the radiation pulse for the 1st/3rd harmonic harmonic\n",
      "column 2: z(cm)\n",
      "column3: total power W\n",
      "column 4: power in relevant frequency harmonic\n",
      "columns 5-9: power in azimuthal modes -2...2\n",
      "N1/N3    -    Intensity distribution in the near zone (cm,intensity)\n",
      "F1/F3    -    Intensity distribution in the near zone (rad,intensity)\n",
      "PZ n files:\n",
      "1 :  No. poit of output\n",
      "2 : z-coordinate of output (cm)\n",
      "3 : total radiation power (all freq, harm+all azimuthal modes)\n",
      "4 : control information (for internal purpose)\n",
      "5 :  power in n-th frequency harm.\n",
      "6-10: partial contribution of azimuthal modes -2:2 to n-th freq. harm.\n",
      "Pn files:\n",
      "1 : time [fs]\n",
      "2: radiation power (all freq, harm+all azimuthal modes) [W]\n",
      "3: control information (for internal purpose)\n",
      "4:  power in n-th frequency harm.\n",
      "5-9: partial contribution of azimuthal modes -2:2 to n-th freq. harm.\n",
      "SFn\n",
      "1: dw/w [%]\n",
      "2: spectral power oh n-th frequency harmonic (far zone, zero angle)\n",
      "Spectrum is normalized to 1: \\int P(w)dw = 1 \n",
      "all other columns as well as SNn files are internal control information.''','s'),\n",
      "   'method_description':('Code: FAST (Schneidmiller Yurkov)','s'),\n",
      "   'source_data_path': ('/data1/yurkov/2013/SASE12_5keV_14GeV_long_pulse/','s')}\n",
      "wf_struct['history/parent/detail/misc']={\n",
      "    'FAST2XY_DAT':(a,'s'),                                     \n",
      "    'temporal_struct':(e_data,'f'),\n",
      "    'gain_curve':(pz_data,'f'),\n",
      "    'power_xy':(p_data,'f')}"
     ],
     "language": "python",
     "metadata": {},
     "outputs": [],
     "prompt_number": 21
    },
    {
     "cell_type": "code",
     "collapsed": false,
     "input": [
      "#store wavefront in hdf5 file\n",
      "fname0 = set_FELout_name(set_oname_2013(namg,namt,ifb,nzc),trd1)\n",
      "#print \"Store wavefront in hdf5 file: \"+fname0+'.h5'\n",
      "store_wavefront_hdf5(wf_struct,os.path.join(tmp_dir,fname0+'.h5'))"
     ],
     "language": "python",
     "metadata": {},
     "outputs": [],
     "prompt_number": 22
    },
    {
     "cell_type": "code",
     "collapsed": false,
     "input": [
      "# use srwlib glossary to add attributes to wavefront datasets \n",
      "# ATTENTION: external groups are dissapeared !\n",
      "in_fname  = os.path.join(tmp_dir,fname0+'.h5')\n",
      "bare_fname = os.path.join(tmp_dir,fname0+'_bare.h5')\n",
      "print('Loading wavefront data from the file:     '+in_fname)\n",
      "wf_struct=Wavefront()\n",
      "wf_struct.load_hdf5(in_fname)\n",
      "wfr = wf_struct._srwl_wf\n",
      "wf_struct = Wavefront(wfr)\n",
      "print('Saving the wavefront data with attributes:'+bare_fname)\n",
      "wf_struct.store_hdf5(bare_fname)\n",
      "print('Replacing data with attributes:  '+bare_fname)\n",
      "with h5py.File(bare_fname) as h2:\n",
      "    with h5py.File(in_fname) as h1:\n",
      "        try:\n",
      "            del h1['params']  # delete group\n",
      "        except KeyError:\n",
      "            pass\n",
      "        h2.copy('params',h1) #copy h2['params'] to h1"
     ],
     "language": "python",
     "metadata": {},
     "outputs": [
      {
       "output_type": "stream",
       "stream": "stdout",
       "text": [
        "Loading wavefront data from the file:     /diskmnt/a/exflwgs03/lsamoylv/code/WPG-develop/samples/SASE1_5keV_14GeV_FXY1_1001015_003fs/SASE1_5keV_14GeV_FXY1_1001015_003fs.h5\n",
        "Saving the wavefront data with attributes:/diskmnt/a/exflwgs03/lsamoylv/code/WPG-develop/samples/SASE1_5keV_14GeV_FXY1_1001015_003fs/SASE1_5keV_14GeV_FXY1_1001015_003fs_bare.h5"
       ]
      },
      {
       "output_type": "stream",
       "stream": "stdout",
       "text": [
        "\n",
        "Replacing data with attributes:  /diskmnt/a/exflwgs03/lsamoylv/code/WPG-develop/samples/SASE1_5keV_14GeV_FXY1_1001015_003fs/SASE1_5keV_14GeV_FXY1_1001015_003fs_bare.h5"
       ]
      },
      {
       "output_type": "stream",
       "stream": "stdout",
       "text": [
        "\n"
       ]
      }
     ],
     "prompt_number": 23
    },
    {
     "cell_type": "code",
     "collapsed": false,
     "input": [
      "out_fname = os.path.join(thepath,fname0+'_out.h5')\n",
      "shutil.copy(in_fname,out_fname)\n",
      "os.chdir(thepath)"
     ],
     "language": "python",
     "metadata": {},
     "outputs": [],
     "prompt_number": 24
    },
    {
     "cell_type": "code",
     "collapsed": false,
     "input": [
      "os.getcwd()"
     ],
     "language": "python",
     "metadata": {},
     "outputs": [
      {
       "metadata": {},
       "output_type": "pyout",
       "prompt_number": 25,
       "text": [
        "'/diskmnt/a/exflwgs03/lsamoylv/code/WPG-develop/samples'"
       ]
      }
     ],
     "prompt_number": 25
    },
    {
     "cell_type": "code",
     "collapsed": false,
     "input": [
      "shutil.copy(out_fname, os.path.join('/data/S2E/data/','prop_in.h5'))"
     ],
     "language": "python",
     "metadata": {},
     "outputs": []
    }
   ],
   "metadata": {}
  }
 ]
}